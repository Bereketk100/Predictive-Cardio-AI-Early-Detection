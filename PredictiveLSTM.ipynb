{
  "cells": [
    {
      "cell_type": "markdown",
      "id": "f0bdc084-3996-47bd-a50a-76469d3f9612",
      "metadata": {
        "tags": [],
        "id": "f0bdc084-3996-47bd-a50a-76469d3f9612"
      },
      "source": [
        "### Libraries & Dependencies"
      ]
    },
    {
      "cell_type": "code",
      "execution_count": null,
      "id": "142dc211-3e22-46fd-a6a3-92ee6cebc122",
      "metadata": {
        "id": "142dc211-3e22-46fd-a6a3-92ee6cebc122"
      },
      "outputs": [],
      "source": [
        "from keras.models import Sequential\n",
        "from keras.layers import Dense,LSTM,Dropout\n",
        "from keras.optimizers import SGD, Adam\n",
        "from keras.callbacks import EarlyStopping\n",
        "\n",
        "from sklearn.model_selection import train_test_split\n",
        "from matplotlib import pyplot as plt\n",
        "import pandas as pd\n",
        "import string\n",
        "import numpy as np\n",
        "import os"
      ]
    },
    {
      "cell_type": "markdown",
      "id": "2e29c733-125d-4c01-928f-3368048363ab",
      "metadata": {
        "tags": [],
        "id": "2e29c733-125d-4c01-928f-3368048363ab"
      },
      "source": [
        "### Data Preprocessing"
      ]
    },
    {
      "cell_type": "code",
      "execution_count": null,
      "id": "97a4ebfb-4b37-4f95-bb5f-415d09484599",
      "metadata": {
        "id": "97a4ebfb-4b37-4f95-bb5f-415d09484599",
        "outputId": "0ee2b092-d738-4307-926e-933007ad138b"
      },
      "outputs": [
        {
          "name": "stdout",
          "output_type": "stream",
          "text": [
            "(400, 2)\n"
          ]
        },
        {
          "data": {
            "text/html": [
              "<div>\n",
              "<style scoped>\n",
              "    .dataframe tbody tr th:only-of-type {\n",
              "        vertical-align: middle;\n",
              "    }\n",
              "\n",
              "    .dataframe tbody tr th {\n",
              "        vertical-align: top;\n",
              "    }\n",
              "\n",
              "    .dataframe thead th {\n",
              "        text-align: right;\n",
              "    }\n",
              "</style>\n",
              "<table border=\"1\" class=\"dataframe\">\n",
              "  <thead>\n",
              "    <tr style=\"text-align: right;\">\n",
              "      <th></th>\n",
              "      <th>ECG_Simple</th>\n",
              "      <th>Label</th>\n",
              "    </tr>\n",
              "  </thead>\n",
              "  <tbody>\n",
              "    <tr>\n",
              "      <th>0</th>\n",
              "      <td>[0.66,  0.6399999999999999,  0.63,  0.65,  0.6...</td>\n",
              "      <td>1.0</td>\n",
              "    </tr>\n",
              "    <tr>\n",
              "      <th>1</th>\n",
              "      <td>[0.47560975609756095,  0.6097560975609755,  0....</td>\n",
              "      <td>0.0</td>\n",
              "    </tr>\n",
              "    <tr>\n",
              "      <th>2</th>\n",
              "      <td>[0.5303030303030303,  0.6212121212121212,  0.5...</td>\n",
              "      <td>1.0</td>\n",
              "    </tr>\n",
              "    <tr>\n",
              "      <th>3</th>\n",
              "      <td>[0.48529411764705893,  0.5,  0.426470588235294...</td>\n",
              "      <td>0.0</td>\n",
              "    </tr>\n",
              "    <tr>\n",
              "      <th>4</th>\n",
              "      <td>[0.620253164556962,  0.620253164556962,  0.632...</td>\n",
              "      <td>1.0</td>\n",
              "    </tr>\n",
              "  </tbody>\n",
              "</table>\n",
              "</div>"
            ],
            "text/plain": [
              "                                          ECG_Simple  Label\n",
              "0  [0.66,  0.6399999999999999,  0.63,  0.65,  0.6...    1.0\n",
              "1  [0.47560975609756095,  0.6097560975609755,  0....    0.0\n",
              "2  [0.5303030303030303,  0.6212121212121212,  0.5...    1.0\n",
              "3  [0.48529411764705893,  0.5,  0.426470588235294...    0.0\n",
              "4  [0.620253164556962,  0.620253164556962,  0.632...    1.0"
            ]
          },
          "execution_count": 2,
          "metadata": {},
          "output_type": "execute_result"
        }
      ],
      "source": [
        "data = pd.read_csv(\"Processed_ECG.csv\")\n",
        "data.loc[data[\"Label\"] == 0.5, \"Label\"] = 1\n",
        "data = data.iloc[-400:]\n",
        "data['ECG_Simple'] = data['ECG'].str.strip('[]').str.split(',')\n",
        "data = data[['ECG_Simple','Label']]\n",
        "data = data.reset_index(drop=True)\n",
        "print(data.shape)\n",
        "data.head()"
      ]
    },
    {
      "cell_type": "markdown",
      "id": "a04af156-1441-4fdf-ad50-e41c8f5a06f2",
      "metadata": {
        "id": "a04af156-1441-4fdf-ad50-e41c8f5a06f2"
      },
      "source": [
        "#### Select First 3 Elements from each ECG Row"
      ]
    },
    {
      "cell_type": "code",
      "execution_count": null,
      "id": "c82a100d-8a87-4ee6-9eba-a460a03ddbac",
      "metadata": {
        "id": "c82a100d-8a87-4ee6-9eba-a460a03ddbac"
      },
      "outputs": [],
      "source": [
        "lst = data['ECG_Simple'].values.tolist()\n",
        "lst2 = [item[:5] for item in lst]\n",
        "lst3 = [item[0] for item in lst2]\n",
        "lst4 = [item[1] for item in lst2]\n",
        "lst5 = [item[2] for item in lst2]\n",
        "lst6 = [item[3] for item in lst2]\n",
        "lst7 = [item[4] for item in lst2]"
      ]
    },
    {
      "cell_type": "markdown",
      "id": "2cda70b6-5140-4e5e-a9bd-c3ccfcd3061d",
      "metadata": {
        "id": "2cda70b6-5140-4e5e-a9bd-c3ccfcd3061d"
      },
      "source": [
        "#### Convert from String to Float"
      ]
    },
    {
      "cell_type": "code",
      "execution_count": null,
      "id": "c370da49-d49b-401c-bc36-3120d5adce2b",
      "metadata": {
        "id": "c370da49-d49b-401c-bc36-3120d5adce2b",
        "outputId": "f3a98950-6a84-46e6-da64-a37d2ff991e5"
      },
      "outputs": [
        {
          "name": "stdout",
          "output_type": "stream",
          "text": [
            "<class 'pandas.core.frame.DataFrame'>\n",
            "RangeIndex: 400 entries, 0 to 399\n",
            "Data columns (total 6 columns):\n",
            " #   Column  Non-Null Count  Dtype  \n",
            "---  ------  --------------  -----  \n",
            " 0   f1      400 non-null    float64\n",
            " 1   f2      400 non-null    float64\n",
            " 2   f3      400 non-null    float64\n",
            " 3   f4      400 non-null    float64\n",
            " 4   f5      400 non-null    float64\n",
            " 5   f6      400 non-null    float64\n",
            "dtypes: float64(6)\n",
            "memory usage: 18.9 KB\n"
          ]
        }
      ],
      "source": [
        "featureDF = pd.DataFrame(\n",
        "    {'f1': lst3,\n",
        "     'f2': lst4,\n",
        "     'f3': lst5,\n",
        "     'f4': lst5,\n",
        "     'f5': lst6,\n",
        "     'f6': lst7\n",
        "    })\n",
        "\n",
        "featureDF = featureDF.astype(float)\n",
        "featureDF.info()"
      ]
    },
    {
      "cell_type": "markdown",
      "id": "cac1a6c4-21c7-44f3-9496-ea09abc6ab36",
      "metadata": {
        "id": "cac1a6c4-21c7-44f3-9496-ea09abc6ab36"
      },
      "source": [
        "#### Join ECG Features with Label Column"
      ]
    },
    {
      "cell_type": "code",
      "execution_count": null,
      "id": "16aad9aa-2633-466c-8b78-83778faf66ba",
      "metadata": {
        "id": "16aad9aa-2633-466c-8b78-83778faf66ba",
        "outputId": "fb5f1093-e372-4b91-f38a-5faab1b58cd0"
      },
      "outputs": [
        {
          "data": {
            "text/html": [
              "<div>\n",
              "<style scoped>\n",
              "    .dataframe tbody tr th:only-of-type {\n",
              "        vertical-align: middle;\n",
              "    }\n",
              "\n",
              "    .dataframe tbody tr th {\n",
              "        vertical-align: top;\n",
              "    }\n",
              "\n",
              "    .dataframe thead th {\n",
              "        text-align: right;\n",
              "    }\n",
              "</style>\n",
              "<table border=\"1\" class=\"dataframe\">\n",
              "  <thead>\n",
              "    <tr style=\"text-align: right;\">\n",
              "      <th></th>\n",
              "      <th>f1</th>\n",
              "      <th>f2</th>\n",
              "      <th>f3</th>\n",
              "      <th>f4</th>\n",
              "      <th>f5</th>\n",
              "      <th>f6</th>\n",
              "      <th>Label</th>\n",
              "    </tr>\n",
              "  </thead>\n",
              "  <tbody>\n",
              "    <tr>\n",
              "      <th>0</th>\n",
              "      <td>0.660000</td>\n",
              "      <td>0.640000</td>\n",
              "      <td>0.630000</td>\n",
              "      <td>0.630000</td>\n",
              "      <td>0.650000</td>\n",
              "      <td>0.640000</td>\n",
              "      <td>1</td>\n",
              "    </tr>\n",
              "    <tr>\n",
              "      <th>1</th>\n",
              "      <td>0.475610</td>\n",
              "      <td>0.609756</td>\n",
              "      <td>0.634146</td>\n",
              "      <td>0.634146</td>\n",
              "      <td>0.634146</td>\n",
              "      <td>0.634146</td>\n",
              "      <td>0</td>\n",
              "    </tr>\n",
              "    <tr>\n",
              "      <th>2</th>\n",
              "      <td>0.530303</td>\n",
              "      <td>0.621212</td>\n",
              "      <td>0.530303</td>\n",
              "      <td>0.530303</td>\n",
              "      <td>0.712121</td>\n",
              "      <td>0.666667</td>\n",
              "      <td>1</td>\n",
              "    </tr>\n",
              "    <tr>\n",
              "      <th>3</th>\n",
              "      <td>0.485294</td>\n",
              "      <td>0.500000</td>\n",
              "      <td>0.426471</td>\n",
              "      <td>0.426471</td>\n",
              "      <td>0.588235</td>\n",
              "      <td>0.485294</td>\n",
              "      <td>0</td>\n",
              "    </tr>\n",
              "    <tr>\n",
              "      <th>4</th>\n",
              "      <td>0.620253</td>\n",
              "      <td>0.620253</td>\n",
              "      <td>0.632911</td>\n",
              "      <td>0.632911</td>\n",
              "      <td>0.620253</td>\n",
              "      <td>0.531646</td>\n",
              "      <td>1</td>\n",
              "    </tr>\n",
              "  </tbody>\n",
              "</table>\n",
              "</div>"
            ],
            "text/plain": [
              "         f1        f2        f3        f4        f5        f6  Label\n",
              "0  0.660000  0.640000  0.630000  0.630000  0.650000  0.640000      1\n",
              "1  0.475610  0.609756  0.634146  0.634146  0.634146  0.634146      0\n",
              "2  0.530303  0.621212  0.530303  0.530303  0.712121  0.666667      1\n",
              "3  0.485294  0.500000  0.426471  0.426471  0.588235  0.485294      0\n",
              "4  0.620253  0.620253  0.632911  0.632911  0.620253  0.531646      1"
            ]
          },
          "execution_count": 5,
          "metadata": {},
          "output_type": "execute_result"
        }
      ],
      "source": [
        "df =  pd.concat([data, featureDF], axis=1) \n",
        "df = df.drop(['ECG_Simple'], axis=1)\n",
        "df = df[['f1','f2','f3','f4','f5','f6','Label']]\n",
        "# df['Label'] =  df['Label'].astype(int)\n",
        "df[\"Label\"] = df[\"Label\"].astype(int)\n",
        "df.head()"
      ]
    },
    {
      "cell_type": "markdown",
      "id": "d677554d-2720-457e-928f-777b812f9d7a",
      "metadata": {
        "id": "d677554d-2720-457e-928f-777b812f9d7a"
      },
      "source": [
        "#### Get Number of Samples for each Label"
      ]
    },
    {
      "cell_type": "code",
      "execution_count": null,
      "id": "956aa680-2756-4321-8783-65499bca5abc",
      "metadata": {
        "id": "956aa680-2756-4321-8783-65499bca5abc",
        "outputId": "4eedc602-31f0-4136-e7b4-3e9a24ba8ebf"
      },
      "outputs": [
        {
          "data": {
            "text/plain": [
              "1    200\n",
              "0    200\n",
              "Name: Label, dtype: int64"
            ]
          },
          "execution_count": 6,
          "metadata": {},
          "output_type": "execute_result"
        }
      ],
      "source": [
        "df['Label'].value_counts()"
      ]
    },
    {
      "cell_type": "markdown",
      "id": "441ee76c-efe5-4dde-a06f-aa7d055e7566",
      "metadata": {
        "id": "441ee76c-efe5-4dde-a06f-aa7d055e7566"
      },
      "source": [
        "#### Seperate Train and Target Variables"
      ]
    },
    {
      "cell_type": "code",
      "execution_count": null,
      "id": "a4cfc659-c1fe-49dd-911c-e8845a969c9c",
      "metadata": {
        "id": "a4cfc659-c1fe-49dd-911c-e8845a969c9c"
      },
      "outputs": [],
      "source": [
        "X_columns=[x for x in df.columns if x!='Label']\n",
        "features=len(X_columns)\n",
        "\n",
        "# split into input (X) and output (Y) variables\n",
        "X = df[X_columns]\n",
        "X = np.asarray(X).astype(np.float32)\n",
        "X = np.resize(X,(X.shape[0],1,X.shape[1]))\n",
        "\n",
        "y=df['Label']\n",
        "# y = np.asarray(y).astype(np.float32)\n",
        "# y = np.asarray(y).astype(np.int32)\n",
        "y = np.asarray(y).astype(np.int64)"
      ]
    },
    {
      "cell_type": "markdown",
      "id": "ba83fd0b-7f01-44e9-b348-4ab5fc458a28",
      "metadata": {
        "id": "ba83fd0b-7f01-44e9-b348-4ab5fc458a28"
      },
      "source": [
        "#### Split Dataset by 90:10 Ratio"
      ]
    },
    {
      "cell_type": "code",
      "execution_count": null,
      "id": "73377efb",
      "metadata": {
        "tags": [],
        "id": "73377efb"
      },
      "outputs": [],
      "source": [
        "seed = 7\n",
        "test_size = 0.90\n",
        "X_train, X_test, y_train, y_test = train_test_split(X, y, test_size=test_size, random_state=seed, shuffle=False)"
      ]
    },
    {
      "cell_type": "markdown",
      "id": "39a838b5-f01b-4404-8f03-c73a46aabd5e",
      "metadata": {
        "id": "39a838b5-f01b-4404-8f03-c73a46aabd5e"
      },
      "source": [
        "### LSTM Model Setup"
      ]
    },
    {
      "cell_type": "code",
      "execution_count": null,
      "id": "9233381c-38aa-4727-aed0-f5508ff1ad73",
      "metadata": {
        "id": "9233381c-38aa-4727-aed0-f5508ff1ad73"
      },
      "outputs": [],
      "source": [
        "model = Sequential()\n",
        "model.add(LSTM(20, activation='tanh', return_sequences=True, input_shape=(1, features)))\n",
        "model.add(Dropout(0.2))\n",
        "model.add(LSTM(10, activation='tanh'))\n",
        "model.add(Dropout(0.2))\n",
        "model.add(Dense(1, activation='relu'))\n",
        "model.compile(optimizer=\"Adam\", loss='binary_crossentropy', metrics=['accuracy'])"
      ]
    },
    {
      "cell_type": "markdown",
      "id": "5e05786e-d24e-4323-8d50-c85c15b4f2e8",
      "metadata": {
        "id": "5e05786e-d24e-4323-8d50-c85c15b4f2e8"
      },
      "source": [
        "### Train LSTM Model"
      ]
    },
    {
      "cell_type": "code",
      "execution_count": null,
      "id": "e97a3a88-90a1-4091-a8f6-a85695bfd7ee",
      "metadata": {
        "id": "e97a3a88-90a1-4091-a8f6-a85695bfd7ee",
        "outputId": "042a71a3-3877-4bb3-aec0-f3d20feb9625"
      },
      "outputs": [
        {
          "name": "stdout",
          "output_type": "stream",
          "text": [
            "Epoch 1/10\n",
            "1/1 [==============================] - 2s 2s/step - loss: 3.4906 - accuracy: 0.5000 - val_loss: 2.2195 - val_accuracy: 0.5000\n",
            "Epoch 2/10\n",
            "1/1 [==============================] - 0s 28ms/step - loss: 2.5451 - accuracy: 0.5000 - val_loss: 2.0658 - val_accuracy: 0.5000\n",
            "Epoch 3/10\n",
            "1/1 [==============================] - 0s 27ms/step - loss: 2.3666 - accuracy: 0.5000 - val_loss: 1.9686 - val_accuracy: 0.5000\n",
            "Epoch 4/10\n",
            "1/1 [==============================] - 0s 25ms/step - loss: 2.0239 - accuracy: 0.5000 - val_loss: 1.8942 - val_accuracy: 0.5000\n",
            "Epoch 5/10\n",
            "1/1 [==============================] - 0s 25ms/step - loss: 1.9301 - accuracy: 0.5000 - val_loss: 1.8334 - val_accuracy: 0.5000\n",
            "Epoch 6/10\n",
            "1/1 [==============================] - 0s 27ms/step - loss: 2.3019 - accuracy: 0.5000 - val_loss: 1.7882 - val_accuracy: 0.5000\n",
            "Epoch 7/10\n",
            "1/1 [==============================] - 0s 28ms/step - loss: 1.7724 - accuracy: 0.5000 - val_loss: 1.7497 - val_accuracy: 0.5000\n",
            "Epoch 8/10\n",
            "1/1 [==============================] - 0s 27ms/step - loss: 1.8025 - accuracy: 0.5000 - val_loss: 1.7164 - val_accuracy: 0.5000\n",
            "Epoch 9/10\n",
            "1/1 [==============================] - 0s 28ms/step - loss: 1.7070 - accuracy: 0.5000 - val_loss: 1.6871 - val_accuracy: 0.5000\n",
            "Epoch 10/10\n",
            "1/1 [==============================] - 0s 27ms/step - loss: 1.6853 - accuracy: 0.5000 - val_loss: 1.6610 - val_accuracy: 0.5000\n"
          ]
        }
      ],
      "source": [
        "es = EarlyStopping(monitor='val_loss', mode='min',patience=5)\n",
        "history=model.fit(X_train, y_train, epochs=10,batch_size=50,validation_data=(X_test,y_test),shuffle=False)"
      ]
    },
    {
      "cell_type": "markdown",
      "id": "d25a5fe5-a8ba-499f-887d-7a05972a7b56",
      "metadata": {
        "id": "d25a5fe5-a8ba-499f-887d-7a05972a7b56"
      },
      "source": [
        "### Plot LSTM Model Results"
      ]
    },
    {
      "cell_type": "code",
      "execution_count": null,
      "id": "9b0a3dca-fc9e-4388-8be8-e335bbae130d",
      "metadata": {
        "id": "9b0a3dca-fc9e-4388-8be8-e335bbae130d",
        "outputId": "202e1d29-74bb-4b80-a897-787e157da062"
      },
      "outputs": [
        {
          "name": "stdout",
          "output_type": "stream",
          "text": [
            "12/12 [==============================] - 0s 1ms/step - loss: 1.6610 - accuracy: 0.5000\n",
            "[1.6610397100448608, 0.5]\n"
          ]
        },
        {
          "data": {
            "image/png": "[encoded data removed]",
            "text/plain": [
              "<Figure size 432x288 with 1 Axes>"
            ]
          },
          "metadata": {
            "needs_background": "light"
          },
          "output_type": "display_data"
        }
      ],
      "source": [
        "print(model.evaluate(X_test, y_test))\n",
        "plt.plot(history.history['loss'])\n",
        "plt.plot(history.history['val_loss'])\n",
        "plt.title('model loss')\n",
        "plt.ylabel('loss')\n",
        "plt.xlabel('epoch')\n",
        "plt.legend(['train', 'test'], loc='upper left')\n",
        "plt.show()"
      ]
    },
    {
      "cell_type": "code",
      "execution_count": null,
      "id": "6faad463-8a07-4445-a756-d08feca804da",
      "metadata": {
        "tags": [],
        "id": "6faad463-8a07-4445-a756-d08feca804da"
      },
      "outputs": [],
      "source": [
        "# y_hat = model.predict(X_test)\n",
        "# y_hat"
      ]
    }
  ],
  "metadata": {
    "kernelspec": {
      "display_name": "Python 3 (ipykernel)",
      "language": "python",
      "name": "python3"
    },
    "language_info": {
      "codemirror_mode": {
        "name": "ipython",
        "version": 3
      },
      "file_extension": ".py",
      "mimetype": "text/x-python",
      "name": "python",
      "nbconvert_exporter": "python",
      "pygments_lexer": "ipython3",
      "version": "3.9.12"
    },
    "colab": {
      "provenance": []
    }
  },
  "nbformat": 4,
  "nbformat_minor": 5
}